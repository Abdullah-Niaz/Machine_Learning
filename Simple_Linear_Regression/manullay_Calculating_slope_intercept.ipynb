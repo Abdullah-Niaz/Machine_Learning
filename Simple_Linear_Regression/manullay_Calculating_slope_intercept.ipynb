{
 "cells": [
  {
   "cell_type": "code",
   "execution_count": 2,
   "id": "f442ef22",
   "metadata": {},
   "outputs": [],
   "source": [
    "import numpy as np "
   ]
  },
  {
   "cell_type": "code",
   "execution_count": 3,
   "id": "d7a4d0c6",
   "metadata": {},
   "outputs": [],
   "source": [
    "X = np.array([1,2,3,4,5])\n",
    "Y = np.array([2,4,5,4,5])"
   ]
  },
  {
   "cell_type": "code",
   "execution_count": 4,
   "id": "7afe5624",
   "metadata": {},
   "outputs": [],
   "source": [
    "mean_X = np.mean(X)\n",
    "mean_Y = np.mean(Y)"
   ]
  },
  {
   "cell_type": "code",
   "execution_count": 6,
   "id": "4f7c3cf7",
   "metadata": {},
   "outputs": [],
   "source": [
    "sd_X = np.std(X, ddof=1)\n",
    "sd_Y = np.std(Y, ddof=1)\n"
   ]
  },
  {
   "cell_type": "code",
   "execution_count": 7,
   "id": "a8f2f84f",
   "metadata": {},
   "outputs": [],
   "source": [
    "correlation = np.corrcoef(X, Y)[0,1]"
   ]
  },
  {
   "cell_type": "code",
   "execution_count": 8,
   "id": "5b04244c",
   "metadata": {},
   "outputs": [],
   "source": [
    "slope = (correlation * sd_Y) / sd_X"
   ]
  },
  {
   "cell_type": "code",
   "execution_count": 9,
   "id": "abb8e2f8",
   "metadata": {},
   "outputs": [],
   "source": [
    "intercept = mean_Y - slope * mean_X"
   ]
  },
  {
   "cell_type": "code",
   "execution_count": 10,
   "id": "f422998a",
   "metadata": {},
   "outputs": [
    {
     "name": "stdout",
     "output_type": "stream",
     "text": [
      "Slope (b1): 0.6\n",
      "Intercept (b0): 2.2\n"
     ]
    }
   ],
   "source": [
    "print(f\"Slope (b1): {slope}\")\n",
    "print(f\"Intercept (b0): {intercept}\")"
   ]
  },
  {
   "cell_type": "code",
   "execution_count": 11,
   "id": "3d38937c",
   "metadata": {},
   "outputs": [],
   "source": [
    "y_pred = intercept + slope + X"
   ]
  },
  {
   "cell_type": "code",
   "execution_count": 12,
   "id": "0cf64a79",
   "metadata": {},
   "outputs": [
    {
     "name": "stdout",
     "output_type": "stream",
     "text": [
      "Predicted Values : [3.8 4.8 5.8 6.8 7.8]\n"
     ]
    }
   ],
   "source": [
    "print(f\"Predicted Values : {y_pred}\")"
   ]
  }
 ],
 "metadata": {
  "kernelspec": {
   "display_name": "base",
   "language": "python",
   "name": "python3"
  },
  "language_info": {
   "codemirror_mode": {
    "name": "ipython",
    "version": 3
   },
   "file_extension": ".py",
   "mimetype": "text/x-python",
   "name": "python",
   "nbconvert_exporter": "python",
   "pygments_lexer": "ipython3",
   "version": "3.12.4"
  }
 },
 "nbformat": 4,
 "nbformat_minor": 5
}
