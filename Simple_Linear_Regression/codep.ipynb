{
 "cells": [
  {
   "cell_type": "code",
   "execution_count": null,
   "metadata": {},
   "outputs": [
    {
     "ename": "",
     "evalue": "",
     "output_type": "error",
     "traceback": [
      "\u001b[1;31mRunning cells with 'Python 3.12.3' requires the ipykernel package.\n",
      "\u001b[1;31mRun the following command to install 'ipykernel' into the Python environment. \n",
      "\u001b[1;31mCommand: '/bin/python3 -m pip install ipykernel -U --user --force-reinstall'"
     ]
    }
   ],
   "source": [
    "import numpy as np\n",
    "import matplotlib.pyplot as plt\n",
    "from sklearn.linear_model import LinearRegression\n",
    "from sklearn.metrics import mean_squared_error, r2_score\n",
    "\n",
    "# Sample data\n",
    "x = np.array([1, 2, 3, 4, 5]).reshape(-1, 1)  # Independent variable (reshaped for sklearn)\n",
    "y = np.array([1, 2, 1.3, 3.75, 2.25])  # Dependent variable\n",
    "\n",
    "# Create a Linear Regression model\n",
    "model = LinearRegression()\n",
    "\n",
    "# Fit the model to the data\n",
    "model.fit(x, y)\n",
    "\n",
    "# Make predictions\n",
    "y_pred = model.predict(x)\n",
    "\n",
    "# Coefficients\n",
    "print(f\"Intercept (β0): {model.intercept_}\")\n",
    "print(f\"Slope (β1): {model.coef_}\")\n",
    "\n",
    "# Evaluate the model\n",
    "print(f\"Mean Squared Error (MSE): {mean_squared_error(y, y_pred)}\")\n",
    "print(f\"R-squared: {r2_score(y, y_pred)}\")\n",
    "\n",
    "# Plot the data and the regression line\n",
    "plt.scatter(x, y, color='blue', label='Data')\n",
    "plt.plot(x, y_pred, color='red', label='Regression Line')\n",
    "plt.xlabel('Independent Variable (x)')\n",
    "plt.ylabel('Dependent Variable (y)')\n",
    "plt.legend()\n",
    "plt.show()\n"
   ]
  },
  {
   "cell_type": "code",
   "execution_count": null,
   "metadata": {},
   "outputs": [
    {
     "ename": "",
     "evalue": "",
     "output_type": "error",
     "traceback": [
      "\u001b[1;31mRunning cells with 'Python 3.12.3' requires the ipykernel package.\n",
      "\u001b[1;31mRun the following command to install 'ipykernel' into the Python environment. \n",
      "\u001b[1;31mCommand: '/bin/python3 -m pip install ipykernel -U --user --force-reinstall'"
     ]
    }
   ],
   "source": [
    "import numpy as np\n",
    "import matplotlib.pyplot as plt\n",
    "from sklearn.linear_model import LinearRegression\n",
    "\n",
    "# Sample dataset\n",
    "x = np.array([1, 2, 3, 4, 5]).reshape(-1, 1)\n",
    "y = np.array([2, 2.8, 3.6, 4.5, 5.1])\n",
    "\n",
    "# Create and train linear regression model\n",
    "model = LinearRegression()\n",
    "model.fit(x, y)\n",
    "\n",
    "# Predict values\n",
    "y_pred = model.predict(x)\n",
    "\n",
    "# Plot the data points\n",
    "plt.scatter(x, y, color='blue', label=\"Actual Data\")\n",
    "\n",
    "# Plot the best fit line\n",
    "plt.plot(x, y_pred, color='red', label=\"Best Fit Line\")\n",
    "\n",
    "# Labels and legend\n",
    "plt.xlabel(\"Independent Variable (x)\")\n",
    "plt.ylabel(\"Dependent Variable (y)\")\n",
    "plt.legend()\n",
    "plt.title(\"Best Fit Line in Simple Linear Regression\")\n",
    "plt.show()"
   ]
  }
 ],
 "metadata": {
  "kernelspec": {
   "display_name": "Python 3",
   "language": "python",
   "name": "python3"
  },
  "language_info": {
   "name": "python",
   "version": "3.12.3"
  }
 },
 "nbformat": 4,
 "nbformat_minor": 2
}
